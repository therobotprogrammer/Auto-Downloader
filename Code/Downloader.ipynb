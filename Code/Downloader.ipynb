{
  "nbformat": 4,
  "nbformat_minor": 0,
  "metadata": {
    "colab": {
      "name": "Downloader.ipynb",
      "version": "0.3.2",
      "views": {},
      "default_view": {},
      "provenance": [],
      "collapsed_sections": []
    },
    "kernelspec": {
      "name": "python3",
      "display_name": "Python 3"
    },
    "accelerator": "GPU"
  },
  "cells": [
    {
      "metadata": {
        "id": "h4WVGDAmwdOT",
        "colab_type": "code",
        "colab": {
          "autoexec": {
            "startup": false,
            "wait_interval": 0
          },
          "base_uri": "https://localhost:8080/",
          "height": 34
        },
        "outputId": "e739f0d6-a977-476b-a8c6-5f99d3928cd6",
        "executionInfo": {
          "status": "ok",
          "timestamp": 1527759616496,
          "user_tz": -330,
          "elapsed": 1445,
          "user": {
            "displayName": "Gordon Freeman",
            "photoUrl": "https://lh3.googleusercontent.com/a/default-user=s128",
            "userId": "106126834092477106626"
          }
        }
      },
      "cell_type": "code",
      "source": [
        "!pip install wget\n",
        "import wget, shutil, os\n",
        "\n",
        "script_url = 'https://raw.githubusercontent.com/thegreatskywalker/my_deep_learning/master/Scripts/setup.sh'\n",
        "wget.download(script_url, out = 'setup.sh')\n",
        "\n",
        "!chmod +x setup.sh\n",
        "!bash setup.sh\n",
        "\n",
        "# To get Kaggle token from Google Drive\n",
        "from googleapiclient.discovery import build\n",
        "import io, os\n",
        "from googleapiclient.http import MediaIoBaseDownload\n",
        "from google.colab import auth\n",
        "\n",
        "auth.authenticate_user()\n",
        "\n",
        "drive_service = build('drive', 'v3')\n",
        "results = drive_service.files().list(\n",
        "        q=\"name = 'kaggle.json'\", fields=\"files(id)\").execute()\n",
        "kaggle_api_key = results.get('files', [])\n",
        "\n",
        "filename = \"/content/.kaggle/kaggle.json\"\n",
        "os.makedirs(os.path.dirname(filename), exist_ok=True)\n",
        "\n",
        "request = drive_service.files().get_media(fileId=kaggle_api_key[0]['id'])\n",
        "fh = io.FileIO(filename, 'wb')\n",
        "downloader = MediaIoBaseDownload(fh, request)\n",
        "done = False\n",
        "while done is False:\n",
        "    status, done = downloader.next_chunk()\n",
        "    print(\"Download Kaggle authentication token from Google Drive %d%%.\" % int(status.progress() * 100))\n",
        "    print(\"Done setting up Kaggle authentication token\")\n",
        "os.chmod(filename, 600)\n",
        "\n",
        "\n",
        "# To mount Google Drive\n",
        "google_drive = '/content/google_drive'\n",
        "\n",
        "from google.colab import auth\n",
        "auth.authenticate_user()\n",
        "from oauth2client.client import GoogleCredentials\n",
        "creds = GoogleCredentials.get_application_default()\n",
        "import getpass\n",
        "!google-drive-ocamlfuse -headless -id={creds.client_id} -secret={creds.client_secret} < /dev/null 2>&1 | grep URL\n",
        "vcode = getpass.getpass()\n",
        "!echo {vcode} | google-drive-ocamlfuse -headless -id={creds.client_id} -secret={creds.client_secret}\n",
        "\n",
        "if not os.path.isdir(google_drive):\n",
        "  os.mkdir(google_drive)\n",
        "!google-drive-ocamlfuse google_drive\n",
        "print(\"Google Drive mounted at: \" + google_drive)"
      ],
      "execution_count": 4,
      "outputs": [
        {
          "output_type": "stream",
          "text": [
            "Google Drive mounted at: /content/google_drive\n"
          ],
          "name": "stdout"
        }
      ]
    },
    {
      "metadata": {
        "id": "8SZJYfBRxium",
        "colab_type": "code",
        "colab": {
          "autoexec": {
            "startup": false,
            "wait_interval": 0
          },
          "base_uri": "https://localhost:8080/",
          "height": 1424
        },
        "outputId": "1f74bf5a-dc0c-4dba-93ed-56200a787627",
        "executionInfo": {
          "status": "ok",
          "timestamp": 1527759834014,
          "user_tz": -330,
          "elapsed": 81769,
          "user": {
            "displayName": "Gordon Freeman",
            "photoUrl": "https://lh3.googleusercontent.com/a/default-user=s128",
            "userId": "106126834092477106626"
          }
        }
      },
      "cell_type": "code",
      "source": [
        "import wget,sys,os\n",
        "\n",
        "project_dir = ('/content/Deep_Learning')\n",
        "\n",
        "if not os.path.isdir(project_dir):\n",
        "  os.mkdir(project_dir)\n",
        "os.chdir(project_dir)\n",
        "\n",
        "\n",
        "#    /COMMON_UTILS is a special directory. All its contents are deleted & downloaded for latest copy. \n",
        "#    Use it for dependencies\n",
        "#    All other directorys dont download if data already exists. Use it for training/test data etc\n",
        "#    All zip files are automatically unzipped & original zip is deleted.\n",
        "\n",
        "\n",
        "common_utils_dir = '/COMMON_UTILS'\n",
        "\n",
        "\n",
        "data_to_download =  {    \n",
        "    \n",
        "    '/ORIGINAL_DATA/GLOVE':         [\n",
        "                                        'http://nlp.stanford.edu/data/glove.twitter.27B.zip'\n",
        "                                    ],\n",
        "\n",
        "\n",
        "    '/ORIGINAL_DATA/TEXT':          [\n",
        "                                        'http://alt.qcri.org/semeval2017/task1/data/uploads/sts2017.gs.zip',\n",
        "                                        'http://alt.qcri.org/semeval2017/task1/data/uploads/sts2017.eval.v1.1.zip'\n",
        "                                    ],\n",
        "    \n",
        "    '/ORIGINAL_DATA/KAGGLE':        [\n",
        "                                        'titanic'\n",
        "                                    ],\n",
        "    \n",
        "    '/COMMON_UTILS':                [\n",
        "                                        'https://raw.githubusercontent.com/algorithmica-repository/deep-learning/master/2018-feb/common_utils/utils.py'\n",
        "                                    ],\n",
        "                    }\n",
        "\n",
        "\n",
        "\n",
        "if os.path.isfile(project_dir + '/AutoDownloader.py'):\n",
        "    os.remove(project_dir + '/AutoDownloader.py')\n",
        "    \n",
        "AutoDownloader_url = 'https://raw.githubusercontent.com/thegreatskywalker/my_deep_learning/master/AutoDownloader.py'\n",
        "wget.download(AutoDownloader_url, out = 'AutoDownloader.py')\n",
        "\n",
        "auto_dl = AutoDownloader()\n",
        "auto_dl.initiate(project_dir, data_to_download)\n",
        "\n",
        "sys.path.insert(0, common_utils_dir) \n",
        "os.chdir(project_dir)"
      ],
      "execution_count": 6,
      "outputs": [
        {
          "output_type": "stream",
          "text": [
            ">>>>>Confirm Project Directory: /content/Deep_Learning\n",
            "\n",
            "Unzipping items in /content/Deep_Learning/COMMON_UTILS\n",
            "Unzipping: /content/Deep_Learning/COMMON_UTILS/kaggle-api-master.zip\n",
            "\n",
            "\n",
            "\n",
            "aria2 RPC server is started.\n",
            ">>>Creating Directory Structure: \n",
            "\n",
            "Creating directory: /content/Deep_Learning/ORIGINAL_DATA/GLOVE\n",
            "Creating directory: /content/Deep_Learning/ORIGINAL_DATA/TEXT\n",
            "Creating directory: /content/Deep_Learning/ORIGINAL_DATA/KAGGLE\n",
            "\n",
            "\n",
            ">>>Downloads Started\n",
            "\n",
            "[0]http://nlp.stanford.edu/data/glove.twitter.27B.zip\n",
            "[1]http://alt.qcri.org/semeval2017/task1/data/uploads/sts2017.gs.zip\n",
            "[2]http://alt.qcri.org/semeval2017/task1/data/uploads/sts2017.eval.v1.1.zip\n",
            "[3]https://raw.githubusercontent.com/algorithmica-repository/deep-learning/master/2018-feb/common_utils/utils.py\n",
            "\n",
            "\n",
            "[0]100% [1]100% [2]100% [3]100%   Speed: 22.02MBps  \n",
            "Downloading Complete \n",
            "\n",
            "\n",
            "\n",
            ">>>Unzipping\n",
            "\n",
            "Unzipping items in /content/Deep_Learning/ORIGINAL_DATA/GLOVE\n",
            "Unzipping: /content/Deep_Learning/ORIGINAL_DATA/GLOVE/glove.twitter.27B.zip\n",
            "\n",
            "Unzipping items in /content/Deep_Learning/ORIGINAL_DATA/TEXT\n",
            "Unzipping: /content/Deep_Learning/ORIGINAL_DATA/TEXT/sts2017.gs.zip\n",
            "Unzipping: /content/Deep_Learning/ORIGINAL_DATA/TEXT/sts2017.eval.v1.1.zip\n",
            "\n",
            "Unzipping items in /content/Deep_Learning/ORIGINAL_DATA/KAGGLE\n",
            "\n",
            "Unzipping items in /content/Deep_Learning/COMMON_UTILS\n",
            "\n",
            ">>>Directory Tree at/content/Deep_Learning\n",
            "\n",
            "\n",
            ">>>Directory Tree at/content/Deep_Learning\n",
            "\n",
            "\n",
            "[Deep_Learning]\n",
            "  AutoDownloader.py\n",
            "  [COMMON_UTILS]\n",
            "    utils.py\n",
            "    pyaria2.py\n",
            "  [ORIGINAL_DATA]\n",
            "    [GLOVE]\n",
            "      glove.twitter.27B.200d.txt\n",
            "      glove.twitter.27B.100d.txt\n",
            "      glove.twitter.27B.25d.txt\n",
            "      glove.twitter.27B.50d.txt\n",
            "    [KAGGLE]\n",
            "      test.csv\n",
            "      gender_submission.csv\n",
            "      train.csv\n",
            "    [TEXT]\n",
            "      [STS2017.gs]\n",
            "        STS.gs.track4a.es-en.txt\n",
            "        STS.gs.track5.en-en.txt\n",
            "        STS.gs.track3.es-es.txt\n",
            "        STS.gs.track1.ar-ar.txt\n",
            "        STS.gs.track2.ar-en.txt\n",
            "        STS.gs.track4b.es-en.txt\n",
            "        STS.gs.track6.tr-en.txt\n",
            "      [STS2017.eval.v1.1]\n",
            "        STS.input.track3.es-es.txt\n",
            "        LICENSE.txt\n",
            "        STS.input.track5.en-en.txt\n",
            "        STS.input.track1.ar-ar.txt\n",
            "        STS.input.track2.ar-en.txt\n",
            "        STS.input.track6.tr-en.txt\n",
            "        README.txt\n",
            "        STS.input.track4a.es-en.txt\n",
            "        STS.input.track4b.es-en.txt\n"
          ],
          "name": "stdout"
        }
      ]
    },
    {
      "metadata": {
        "id": "yWrXI_08QI5c",
        "colab_type": "code",
        "colab": {
          "autoexec": {
            "startup": false,
            "wait_interval": 0
          }
        }
      },
      "cell_type": "code",
      "source": [
        "\n"
      ],
      "execution_count": 0,
      "outputs": []
    }
  ]
}